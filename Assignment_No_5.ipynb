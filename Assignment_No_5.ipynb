{
  "nbformat": 4,
  "nbformat_minor": 0,
  "metadata": {
    "colab": {
      "provenance": [],
      "authorship_tag": "ABX9TyO/l1YhSJaJEZ/OUr+PQKlq",
      "include_colab_link": true
    },
    "kernelspec": {
      "name": "python3",
      "display_name": "Python 3"
    },
    "language_info": {
      "name": "python"
    }
  },
  "cells": [
    {
      "cell_type": "markdown",
      "metadata": {
        "id": "view-in-github",
        "colab_type": "text"
      },
      "source": [
        "<a href=\"https://colab.research.google.com/github/komalrajgor/PW-Assignments/blob/main/Assignment_No_5.ipynb\" target=\"_parent\"><img src=\"https://colab.research.google.com/assets/colab-badge.svg\" alt=\"Open In Colab\"/></a>"
      ]
    },
    {
      "cell_type": "markdown",
      "source": [
        "Q1 What is the difference between interpreted and compiled languages?\n",
        "\n",
        "Ans The primary difference between interpreted and compiled languages lies in how the source code is executed. Compiled languages are translated into machine code before runtime, while interpreted languages are executed line by line by an interpreter during runtime"
      ],
      "metadata": {
        "id": "SWEopp_afxu5"
      }
    },
    {
      "cell_type": "markdown",
      "source": [
        "Q2 What is exception handling in Python?\n",
        "\n",
        "Ans Exception handling in Python is a mechanism used to manage runtime errors, known as exceptions, that occur during the execution of a program. It allows a program to respond to these errors gracefully instead of crashing abruptly."
      ],
      "metadata": {
        "id": "IL4Q_DxlgWLu"
      }
    },
    {
      "cell_type": "markdown",
      "source": [
        "Q3 What is the purpose of the finally block in exception handling?\n",
        "\n",
        "Ans The finally block in exception handling ensures that a specific block of code is executed, regardless of whether an exception is thrown or caught in the try or catch blocks. Its primary purpose is to provide a mechanism for cleanup operations that must always run, such as releasing resources or closing files, ensuring resources are properly managed even when exceptions occur."
      ],
      "metadata": {
        "id": "I16OT-TElVy5"
      }
    },
    {
      "cell_type": "markdown",
      "source": [
        "Q4 What is logging in Python?\n",
        "\n",
        "Ans Logging in Python refers to the process of recording events and messages that occur during the execution of a program. It is a crucial tool for debugging, troubleshooting, monitoring, and analyzing the behavior of applications. Python provides a built-in logging module in its standard library, offering a flexible and customizable framework for this purpose\n"
      ],
      "metadata": {
        "id": "JgwAnKcUpaON"
      }
    },
    {
      "cell_type": "markdown",
      "source": [
        "Q5 What is the significance of the __del__ method in Python?\n",
        "\n",
        "Ans The __del__ method in Python, also known as the destructor, holds significance in managing resource cleanup when an object is about to be garbage collected.\n"
      ],
      "metadata": {
        "id": "Z1vxVaBmpu5o"
      }
    },
    {
      "cell_type": "markdown",
      "source": [
        "Q6 What is the difference between import and from ... import in Python?\n",
        "\n",
        "Ans In Python, both import and from ... import statements are used to bring code from one module into another, but they differ in how they expose the imported elements to the current namespace"
      ],
      "metadata": {
        "id": "tZnAxcZKquy3"
      }
    },
    {
      "cell_type": "markdown",
      "source": [
        "Q7 How can you handle multiple exceptions in Python?\n",
        "\n",
        "Ans In Python, multiple exceptions can be handled within a try-except block in several ways:\n",
        "\n",
        "1. Multiple except Blocks:\n",
        "You can use separate except blocks for each specific exception type you want to handle differently. The first except block that matches the raised exception will be executed.\n",
        "\n",
        "2. Single except Block with a Tuple of Exceptions:\n",
        "If you want to handle multiple exceptions in the same way, you can specify them as a tuple within a single except block.\n",
        "\n",
        "3. Catching a Parent Exception:\n",
        "Most built-in exceptions in Python inherit from the Exception class. You can catch Exception to handle a wide range of errors, though this should be used carefully to avoid masking specific issues."
      ],
      "metadata": {
        "id": "Cwe6SFH4rj5g"
      }
    },
    {
      "cell_type": "markdown",
      "source": [
        "Q8 What is the purpose of the with statement when handling files in Python?\n",
        "\n",
        "Ans The with statement in Python, when used with file handling, serves the purpose of simplifying resource management and ensuring proper cleanup. Its primary benefits are:\n",
        "\n",
        "Automatic Resource Release:\n",
        "The with statement guarantees that the file is automatically closed once the code block within the with statement is exited, regardless of whether the exit is normal or due to an exception. This eliminates the need for explicit file.close() calls and prevents potential resource leaks.\n",
        "\n",
        "Exception Safety:\n",
        "It ensures that the file is closed even if an error occurs during file operations within the with block. This is achieved by leveraging the context manager protocol, where the file object's __exit__ method is called even in the presence of exceptions.\n",
        "\n",
        "Cleaner and More Readable Code:\n",
        "By handling the file closing automatically, the with statement reduces boilerplate code and makes the file handling logic more concise and easier to understand"
      ],
      "metadata": {
        "id": "tnUdBaYpuRcY"
      }
    },
    {
      "cell_type": "markdown",
      "source": [
        "Q9 What is the difference between multithreading and multiprocessing?\n",
        "\n",
        "Ans Multithreading and multiprocessing are both techniques to achieve parallelism, but they differ in how they utilize system resources. Multithreading involves multiple threads within a single process, sharing the same memory space, while multiprocessing involves multiple processes, each with its own memory space."
      ],
      "metadata": {
        "id": "9wf48BUSwe9D"
      }
    },
    {
      "cell_type": "markdown",
      "source": [
        "Q10  What are the advantages of using logging in a program?\n",
        "\n",
        "Ans Logging offers numerous advantages in programming, primarily aiding in debugging, monitoring, and understanding application behavior. It provides a detailed record of events, allowing developers to track the application's execution, identify issues, and analyze performance"
      ],
      "metadata": {
        "id": "UVa2pRmayzh3"
      }
    },
    {
      "cell_type": "markdown",
      "source": [
        "Q11 What is memory management in Python?\n",
        "\n",
        "Ans Memory management in Python refers to the automatic process by which Python handles the allocation and deallocation of memory for objects and data structures within a running program. Unlike some other programming languages, Python abstracts away the complexities of manual memory management from the developer."
      ],
      "metadata": {
        "id": "wpNyjpzA0G7B"
      }
    },
    {
      "cell_type": "markdown",
      "source": [
        "Q12 What are the basic steps involved in exception handling in Python?\n",
        "\n",
        "Ans Exception handling in Python primarily involves the use of try, except, else, and finally blocks.\n",
        "\n",
        "1. The try Block:\n",
        "This block contains the code that is susceptible to raising an exception. Python attempts to execute the code within this block. If an exception occurs, the execution of the try block is immediately halted, and control is passed to the appropriate except block.\n",
        "2. The except Block(s):\n",
        "Following the try block, one or more except blocks are used to handle specific types of exceptions that might arise in the try block. If an exception matches the type specified in an except block, the code within that except block is executed to handle the error gracefully. You can have multiple except blocks to handle different types of exceptions. A general except block without a specified exception type can catch any unhandled exception.\n",
        "3. The else Block (Optional):\n",
        "This block is executed if and only if no exception occurs within the try block. It is typically used for code that should only run when the try block completes successfully.\n",
        "4. The finally Block (Optional):\n",
        "This block always executes, regardless of whether an exception occurred in the try block or not, and whether it was handled by an except block. It is commonly used for cleanup operations, such as closing files or releasing system resources, ensuring these actions happen even in the event of an error"
      ],
      "metadata": {
        "id": "EOR9zV2n0rWF"
      }
    },
    {
      "cell_type": "markdown",
      "source": [
        "Q13 Why is memory management important in Python?\n",
        "\n",
        "Ans Memory management is important in Python for several key reasons, even though it handles much of it automatically:\n",
        "\n",
        "Resource Efficiency:\n",
        "Efficient memory management ensures that your Python programs use system resources, particularly RAM, effectively. This is crucial for performance, especially when dealing with large datasets or complex applications. Poor memory management can lead to excessive memory consumption, slowing down your program and potentially impacting other applications running on the system.\n",
        "\n",
        "Preventing Memory Leaks:\n",
        "Without proper memory management, programs can suffer from memory leaks, where allocated memory is no longer needed but not released back to the system. This leads to a gradual increase in memory usage over time, eventually causing performance degradation, system slowdowns, or even crashes. Python's automatic garbage collection helps mitigate this, but understanding its mechanisms is still beneficial for avoiding situations that can lead to leaks.\n",
        "\n",
        "Improving Performance:\n",
        "Well-managed memory contributes directly to faster program execution. By efficiently allocating and deallocating memory, Python can minimize overhead and ensure that data is readily available when needed, leading to smoother and more responsive applications.\n",
        "\n",
        "Stability and Reliability:\n",
        "Effective memory management is essential for the stability and reliability of your Python applications. It helps prevent unexpected errors, crashes, and unpredictable behavior that can arise from memory-related issues like accessing freed memory or corrupting data.\n",
        "\n",
        "Scalability:\n",
        "When developing applications that need to handle increasing amounts of data or concurrent users, efficient memory management becomes even more critical. It allows your programs to scale effectively without hitting memory limitations or experiencing significant performance bottlenecks.\n"
      ],
      "metadata": {
        "id": "F-YHAPBV1fxh"
      }
    },
    {
      "cell_type": "markdown",
      "source": [
        "Q14. What is the role of try and except in exception handling?\n",
        "\n",
        "Ans The try and except statements are fundamental for exception handling, which allows programs to gracefully handle errors without crashing. The try block contains code that might raise an exception, and the except block handles the specific type of exception that is raised, allowing the program to continue execution instead of terminating abruptly."
      ],
      "metadata": {
        "id": "MwhuQSNT3s-h"
      }
    },
    {
      "cell_type": "markdown",
      "source": [
        "Q15. How does Python's garbage collection system work?\n",
        "\n",
        "Ans Python's garbage collection system primarily uses reference counting and generational garbage collection to manage memory. Reference counting tracks how many references point to an object, and when this count reaches zero, the object is deallocated. Generational garbage collection groups objects into generations and collects them more frequently based on their age, optimizing the process.\n"
      ],
      "metadata": {
        "id": "UnBwUTpX4ips"
      }
    },
    {
      "cell_type": "markdown",
      "source": [
        "Q16 What is the purpose of the else block in exception handling?\n",
        "\n",
        "Ans In exception handling, the else block is executed when no exceptions are raised within the try block. It provides a way to run specific code only if the try block's operations complete successfully, without raising any exceptions. This helps separate error handling from the normal execution flow."
      ],
      "metadata": {
        "id": "b2oOq9h143bn"
      }
    },
    {
      "cell_type": "markdown",
      "source": [
        "Q17 What are the common logging levels in Python?\n",
        "\n",
        "Ans Python's built-in logging module offers a set of standard logging levels to categorize the severity of messages. These levels help in filtering and controlling the amount of information logged, especially in production environments."
      ],
      "metadata": {
        "id": "_hYJYlwX6zFx"
      }
    },
    {
      "cell_type": "markdown",
      "source": [
        "Q18 What is the difference between os.fork() and multiprocessing in Python?\n",
        "\n",
        "Ans The os.fork() function and the multiprocessing module in Python both facilitate the creation of new processes, but they differ significantly in their level of abstraction, portability, and how they manage resources."
      ],
      "metadata": {
        "id": "DIdV1hFs7wNX"
      }
    },
    {
      "cell_type": "markdown",
      "source": [
        "Q19 What is the importance of closing a file in Python?\n",
        "\n",
        "Ans Closing a file in Python after completing read or write operations is crucial for several reasons:\n",
        "\n",
        "Data Integrity:\n",
        "When writing data to a file, the operating system often buffers the data in memory before writing it to the disk. Closing the file explicitly flushes any remaining buffered data to the disk, ensuring that all changes are saved and preventing data loss or corruption in case of a program crash or unexpected termination.\n",
        "\n",
        "Resource Management:\n",
        "Open files consume system resources, including memory and file handles. Operating systems have limits on the number of open file handles a process can maintain. Failing to close files can lead to resource leaks, potentially exceeding these limits and causing performance issues or program crashes, especially in long-running applications or servers.\n",
        "\n",
        "File Locking and Access:\n",
        "In some operating systems, open files are locked, preventing other processes or users from accessing or modifying them. Closing the file releases these locks, allowing other applications to interact with the file.\n",
        "\n",
        "Code Maintainability and Best Practice:\n",
        "Explicitly closing files is a good programming practice that enhances code readability and maintainability. It clearly indicates when file resources are no longer needed, making the code more robust and easier to understand for other developers.\n",
        "\n",
        "Preventing Unintended Modifications:\n",
        "Keeping a file open longer than necessary increases the risk of accidental or unauthorized modifications to its contents. Closing the file minimizes this window of vulnerability\n"
      ],
      "metadata": {
        "id": "q1lxeMVC80UX"
      }
    },
    {
      "cell_type": "markdown",
      "source": [
        "Q20 What is the difference between file.read() and file.readline() in Python?\n",
        "\n",
        "Ans In Python, file.read() and file.readline() are methods used to read content from a file, but they differ in how much data they retrieve and how they handle the file pointer.\n",
        "\n",
        "file.read(size):\n",
        "This method reads a specified number of bytes or characters from the file.\n",
        "If no size argument is provided, it reads the entire content of the file and returns it as a single string.\n",
        "The file pointer moves to the end of the read content.\n",
        "Use case: Suitable for reading the entire file at once, especially for smaller files, or when you need to read a specific number of bytes.\n",
        "Python\n",
        "\n",
        "file.readline(size):\n",
        "This method reads a single line from the file, including the newline character (\\n) if present.\n",
        "If a size argument is provided, it reads at most that many bytes from the current line.\n",
        "The file pointer moves to the beginning of the next line after reading.\n",
        "It returns an empty string when the end of the file is reached.\n",
        "Use case: Ideal for processing large files line by line, as it avoids loading the entire file into memory, which can be memory-intensive for very large files"
      ],
      "metadata": {
        "id": "YsnUtTRv-Xpk"
      }
    },
    {
      "cell_type": "markdown",
      "source": [
        "Q21 What is the logging module in Python used for?\n",
        "\n",
        "Ans The logging module in Python is used to track and record events that occur during the execution of a program. It allows developers to generate log messages at different severity levels, providing valuable insights for debugging, troubleshooting, and monitoring the application's behavior."
      ],
      "metadata": {
        "id": "j-QOk7yLHWBc"
      }
    },
    {
      "cell_type": "markdown",
      "source": [
        "Q22 What is the os module in Python used for in file handling?\n",
        "\n",
        "Ans The Python OS module is essential for file-related tasks, enabling efficient file and directory management in programs. It allows you to easily handle the current working directory, create and delete directories, list files and folders, and perform file operations"
      ],
      "metadata": {
        "id": "mLtMAn596V57"
      }
    },
    {
      "cell_type": "markdown",
      "source": [
        "Q23 What are the challenges associated with memory management in Python?\n",
        "\n",
        "Ans Python's automatic memory management, while convenient, presents a few challenges. Reference cycles can prevent garbage collection, leading to memory leaks. Additionally, Python's overhead from its memory management can impact performance, particularly with large datasets or resource-intensive tasks. While it handles memory automatically, understanding these challenges is crucial for writing efficient Python code."
      ],
      "metadata": {
        "id": "6c2M9J3J6vkX"
      }
    },
    {
      "cell_type": "markdown",
      "source": [
        "Q24  How do you raise an exception manually in Python?\n",
        "\n",
        "Ans In Python, exceptions are raised using the raise keyword. This allows you to explicitly signal that an error or an exceptional condition has occurred within your code."
      ],
      "metadata": {
        "id": "WURK6t2Z7fmq"
      }
    },
    {
      "cell_type": "markdown",
      "source": [
        "Q25 Why is it important to use multithreading in certain applications?\n",
        "\n",
        "Ans Ans Multithreading is important in certain applications because it enables them to perform multiple tasks concurrently, leading to improved performance, responsiveness, and resource utilization. By breaking down tasks into smaller, independent threads, applications can better utilize multi-core processors, handle multiple user requests simultaneously, and avoid blocking the main application thread, resulting in a smoother and more efficient user experience."
      ],
      "metadata": {
        "id": "asUw6gEd8Xrt"
      }
    },
    {
      "cell_type": "markdown",
      "source": [
        "Practical Question"
      ],
      "metadata": {
        "id": "p_SLSIAK8rwn"
      }
    },
    {
      "cell_type": "code",
      "execution_count": 2,
      "metadata": {
        "id": "SDgxEGlefp8L"
      },
      "outputs": [],
      "source": [
        "# Q1 How can you open a file for writing in Python and write a string to it?\n",
        "\n",
        "with open(\"example.txt\", \"w\") as file:\n",
        "    file.write(\"Hello, this is a sample text.\")\n",
        "\n",
        "\n"
      ]
    },
    {
      "cell_type": "code",
      "source": [
        "# Q2 Write a Python program to read the contents of a file and print each line\n",
        "\n",
        "def read_and_print_file(filename):\n",
        "    \"\"\"\n",
        "    Reads a text file and prints each line to the console.\n",
        "\n",
        "    Args:\n",
        "        filename (str): The path to the text file.\n",
        "    \"\"\"\n",
        "    try:\n",
        "        with open(filename, 'r') as file:\n",
        "            for line in file:\n",
        "                print(line.strip())  # .strip() removes leading/trailing whitespace, including newlines\n",
        "    except FileNotFoundError:\n",
        "        print(f\"Error: The file '{filename}' was not found.\")\n",
        "    except Exception as e:\n",
        "        print(f\"An error occurred: {e}\")\n",
        "if __name__ == \"__main__\":\n",
        "    # Create a dummy file for demonstration\n",
        "    with open(\"sample.txt\", \"w\") as f:\n",
        "        f.write(\"This is line 1.\\n\")\n",
        "        f.write(\"This is line 2.\\n\")\n",
        "        f.write(\"This is line 3.\\n\")\n",
        "\n",
        "    read_and_print_file(\"sample.txt\")\n",
        "    read_and_print_file(\"non_existent_file.txt\") # Demonstrating error handling"
      ],
      "metadata": {
        "colab": {
          "base_uri": "https://localhost:8080/"
        },
        "id": "2tFnqjId8Tn9",
        "outputId": "e979609e-49b5-472f-d261-59f266fff487"
      },
      "execution_count": 5,
      "outputs": [
        {
          "output_type": "stream",
          "name": "stdout",
          "text": [
            "This is line 1.\n",
            "This is line 2.\n",
            "This is line 3.\n",
            "Error: The file 'non_existent_file.txt' was not found.\n"
          ]
        }
      ]
    },
    {
      "cell_type": "code",
      "source": [
        "# Q3 How would you handle a case where the file doesn't exist while trying to open it for reading?\n",
        "\n",
        "try:\n",
        "    with open(\"nonexistent_file.txt\", \"r\") as file:\n",
        "        content = file.read()\n",
        "except FileNotFoundError:\n",
        "    print(\"The file does not exist.\")\n"
      ],
      "metadata": {
        "colab": {
          "base_uri": "https://localhost:8080/"
        },
        "id": "pBF81kBf9e3T",
        "outputId": "34c7959a-423e-495f-aff9-f46e257bb92f"
      },
      "execution_count": 6,
      "outputs": [
        {
          "output_type": "stream",
          "name": "stdout",
          "text": [
            "The file does not exist.\n"
          ]
        }
      ]
    },
    {
      "cell_type": "code",
      "source": [
        "# Q4 Write a Python script that reads from one file and writes its content to another file\n",
        "\n",
        "with open(\"source.txt\", \"r\") as source_file:\n",
        "    content = source_file.read()\n",
        "\n",
        "with open(\"destination.txt\", \"w\") as destination_file:\n",
        "    destination_file.write(content)\n"
      ],
      "metadata": {
        "colab": {
          "base_uri": "https://localhost:8080/",
          "height": 211
        },
        "id": "bGEF4xDQ_YS_",
        "outputId": "c6ad09f8-6d09-45ca-eacb-50b1610b83f9"
      },
      "execution_count": 7,
      "outputs": [
        {
          "output_type": "error",
          "ename": "FileNotFoundError",
          "evalue": "[Errno 2] No such file or directory: 'source.txt'",
          "traceback": [
            "\u001b[0;31m---------------------------------------------------------------------------\u001b[0m",
            "\u001b[0;31mFileNotFoundError\u001b[0m                         Traceback (most recent call last)",
            "\u001b[0;32m/tmp/ipython-input-7-573351065.py\u001b[0m in \u001b[0;36m<cell line: 0>\u001b[0;34m()\u001b[0m\n\u001b[1;32m      1\u001b[0m \u001b[0;31m# Q4 Write a Python script that reads from one file and writes its content to another file\u001b[0m\u001b[0;34m\u001b[0m\u001b[0;34m\u001b[0m\u001b[0m\n\u001b[1;32m      2\u001b[0m \u001b[0;34m\u001b[0m\u001b[0m\n\u001b[0;32m----> 3\u001b[0;31m \u001b[0;32mwith\u001b[0m \u001b[0mopen\u001b[0m\u001b[0;34m(\u001b[0m\u001b[0;34m\"source.txt\"\u001b[0m\u001b[0;34m,\u001b[0m \u001b[0;34m\"r\"\u001b[0m\u001b[0;34m)\u001b[0m \u001b[0;32mas\u001b[0m \u001b[0msource_file\u001b[0m\u001b[0;34m:\u001b[0m\u001b[0;34m\u001b[0m\u001b[0;34m\u001b[0m\u001b[0m\n\u001b[0m\u001b[1;32m      4\u001b[0m     \u001b[0mcontent\u001b[0m \u001b[0;34m=\u001b[0m \u001b[0msource_file\u001b[0m\u001b[0;34m.\u001b[0m\u001b[0mread\u001b[0m\u001b[0;34m(\u001b[0m\u001b[0;34m)\u001b[0m\u001b[0;34m\u001b[0m\u001b[0;34m\u001b[0m\u001b[0m\n\u001b[1;32m      5\u001b[0m \u001b[0;34m\u001b[0m\u001b[0m\n",
            "\u001b[0;31mFileNotFoundError\u001b[0m: [Errno 2] No such file or directory: 'source.txt'"
          ]
        }
      ]
    },
    {
      "cell_type": "code",
      "source": [
        "# Q5 How would you catch and handle division by zero error in Python?\n",
        "\n",
        "try:\n",
        "    num = int(input(\"Enter a number: \"))\n",
        "    result = 100 / num\n",
        "    print(\"Result:\", result)\n",
        "except ZeroDivisionError:\n",
        "    print(\"You can't divide by zero!\")\n",
        "except ValueError:\n",
        "    print(\"Please enter a valid number.\")\n"
      ],
      "metadata": {
        "colab": {
          "base_uri": "https://localhost:8080/"
        },
        "id": "Q1VBdrXa_yAv",
        "outputId": "47b3e4af-6636-4a20-b433-bf50571848dd"
      },
      "execution_count": 9,
      "outputs": [
        {
          "output_type": "stream",
          "name": "stdout",
          "text": [
            "Enter a number: 0\n",
            "You can't divide by zero!\n"
          ]
        }
      ]
    },
    {
      "cell_type": "code",
      "source": [
        "# Q6 Write a Python program that logs an error message to a log file when a division by zero exception occurs ?\n",
        "import logging\n",
        "\n",
        "# Configure logging\n",
        "logging.basicConfig(filename='error_log.txt', level=logging.ERROR,\n",
        "                    format='%(asctime)s - %(levelname)s - %(message)s')\n",
        "\n",
        "try:\n",
        "    result = 10 / 0\n",
        "except ZeroDivisionError as e:\n",
        "    logging.error(\"Division by zero error occurred: %s\", e)\n",
        "    print(\"An error occurred. Check the log file for details.\")\n"
      ],
      "metadata": {
        "colab": {
          "base_uri": "https://localhost:8080/"
        },
        "id": "vmuCFoaO_4Ms",
        "outputId": "ec331211-c380-41b3-b872-8dbe6b233f18"
      },
      "execution_count": 11,
      "outputs": [
        {
          "output_type": "stream",
          "name": "stderr",
          "text": [
            "ERROR:root:Division by zero error occurred: division by zero\n"
          ]
        },
        {
          "output_type": "stream",
          "name": "stdout",
          "text": [
            "An error occurred. Check the log file for details.\n"
          ]
        }
      ]
    },
    {
      "cell_type": "code",
      "source": [
        "# Q7 How do you log information at different levels (INFO, ERROR, WARNING) in Python using the logging module?\n",
        "\n",
        "import logging\n",
        "\n",
        "logging.basicConfig(\n",
        "    filename='app.log',\n",
        "    level=logging.DEBUG,  # Set the minimum level to capture\n",
        "    format='%(asctime)s - %(levelname)s - %(message)s'\n",
        ")\n",
        "logging.debug(\"This is a debug message.\")\n",
        "logging.info(\"This is an info message.\")\n",
        "logging.warning(\"This is a warning message.\")\n",
        "logging.error(\"This is an error message.\")\n",
        "logging.critical(\"This is a critical message.\")\n"
      ],
      "metadata": {
        "colab": {
          "base_uri": "https://localhost:8080/"
        },
        "id": "tfpDTCvsAo-n",
        "outputId": "3df6fe26-2595-409f-ed0b-f70d0c2b8416"
      },
      "execution_count": 12,
      "outputs": [
        {
          "output_type": "stream",
          "name": "stderr",
          "text": [
            "WARNING:root:This is a warning message.\n",
            "ERROR:root:This is an error message.\n",
            "CRITICAL:root:This is a critical message.\n"
          ]
        }
      ]
    },
    {
      "cell_type": "code",
      "source": [
        "# Q8 Write a program to handle a file opening error using exception handling?\n",
        "\n",
        "filename = \"nonexistent_file.txt\"\n",
        "\n",
        "try:\n",
        "    with open(filename, \"r\") as file:\n",
        "        content = file.read()\n",
        "        print(content)\n",
        "except FileNotFoundError:\n",
        "    print(f\"Error: The file '{filename}' was not found.\")\n",
        "except PermissionError:\n",
        "    print(f\"Error: You don't have permission to open '{filename}'.\")\n",
        "except Exception as e:\n",
        "    print(f\"An unexpected error occurred: {e}\")\n"
      ],
      "metadata": {
        "colab": {
          "base_uri": "https://localhost:8080/"
        },
        "id": "8KrZTIy3BRM9",
        "outputId": "8745db62-1ba8-454e-ae98-eeab3c8b2e73"
      },
      "execution_count": 13,
      "outputs": [
        {
          "output_type": "stream",
          "name": "stdout",
          "text": [
            "Error: The file 'nonexistent_file.txt' was not found.\n"
          ]
        }
      ]
    },
    {
      "cell_type": "code",
      "source": [
        "# Q9 How can you read a file line by line and store its content in a list in Python?\n",
        "\n",
        "with open(\"example.txt\", \"r\") as file:\n",
        "    lines = file.readlines()\n"
      ],
      "metadata": {
        "id": "-diXOOd1BiAH"
      },
      "execution_count": 17,
      "outputs": []
    },
    {
      "cell_type": "code",
      "source": [
        "# Q10  How can you append data to an existing file in Python?\n",
        "\n",
        "with open(\"example.txt\", \"a\") as file:\n",
        "    file.write(\"This is a new line added to the file.\\n\")\n"
      ],
      "metadata": {
        "id": "WThJfVSoB1ec"
      },
      "execution_count": 18,
      "outputs": []
    },
    {
      "cell_type": "code",
      "source": [
        "#Q11 Write a Python program that uses a try-except block to handle an error when attempting to access a dictionary key that doesn't exist\n",
        "\n",
        "data = {\n",
        "    \"name\": \"Komal\",\n",
        "    \"age\": 27\n",
        "}\n",
        "\n",
        "try:\n",
        "    city = data[\"city\"]\n",
        "    print(\"City:\", city)\n",
        "except KeyError:\n",
        "    print(\"Error: 'city' key does not exist in the dictionary.\")\n"
      ],
      "metadata": {
        "colab": {
          "base_uri": "https://localhost:8080/"
        },
        "id": "JyLYiBFQCTut",
        "outputId": "9e37b823-76e6-43fa-d305-74d92f297900"
      },
      "execution_count": 3,
      "outputs": [
        {
          "output_type": "stream",
          "name": "stdout",
          "text": [
            "Error: 'city' key does not exist in the dictionary.\n"
          ]
        }
      ]
    },
    {
      "cell_type": "code",
      "source": [
        "#Q12 Write a program that demonstrates using multiple except blocks to handle different types of exceptions?\n",
        "\n",
        "try:\n",
        "    num = int(input(\"Enter a number: \"))\n",
        "    result = 100 / num\n",
        "    my_list = [1, 2, 3]\n",
        "    print(\"Fifth item:\", my_list[4])\n",
        "except ZeroDivisionError:\n",
        "    print(\"Error: You can't divide by zero.\")\n",
        "except ValueError:\n",
        "    print(\"Error: Please enter a valid integer.\")\n",
        "except IndexError:\n",
        "    print(\"Error: Index out of range in the list.\")\n",
        "except Exception as e:\n",
        "    print(\"An unexpected error occurred:\", e)\n"
      ],
      "metadata": {
        "colab": {
          "base_uri": "https://localhost:8080/"
        },
        "id": "U0P_6ENzJQA-",
        "outputId": "ac070fe3-2db8-42d0-bc9e-f23a8b879ec1"
      },
      "execution_count": 7,
      "outputs": [
        {
          "output_type": "stream",
          "name": "stdout",
          "text": [
            "Enter a number: 2\n",
            "Error: Index out of range in the list.\n"
          ]
        }
      ]
    },
    {
      "cell_type": "code",
      "source": [
        "# Q13  How would you check if a file exists before attempting to read it in Python?\n",
        "\n",
        "from pathlib import Path\n",
        "\n",
        "file = Path(\"example.txt\")\n",
        "\n",
        "if file.exists():\n",
        "    with file.open(\"r\") as f:\n",
        "        content = f.read()\n",
        "        print(content)\n",
        "else:\n",
        "    print(f\"File '{file}' does not exist.\")\n"
      ],
      "metadata": {
        "colab": {
          "base_uri": "https://localhost:8080/"
        },
        "id": "YZTVVTfDK9tv",
        "outputId": "9404f4be-5602-4874-b214-3338b53d04a4"
      },
      "execution_count": 8,
      "outputs": [
        {
          "output_type": "stream",
          "name": "stdout",
          "text": [
            "File 'example.txt' does not exist.\n"
          ]
        }
      ]
    },
    {
      "cell_type": "code",
      "source": [
        "# Q14 Write a program that uses the logging module to log both informational and error messages?\n",
        "\n",
        "import logging\n",
        "\n",
        "logging.basicConfig(\n",
        "    filename='app_log.txt',\n",
        "    level=logging.DEBUG,\n",
        "    format='%(asctime)s - %(levelname)s - %(message)s'\n",
        ")\n",
        "\n",
        "logging.info(\"Program started successfully.\")\n",
        "\n",
        "try:\n",
        "    num = int(input(\"Enter a number to divide 100 by: \"))\n",
        "    result = 100 / num\n",
        "    logging.info(f\"Division successful. Result: {result}\")\n",
        "except ZeroDivisionError:\n",
        "    logging.error(\"Attempted to divide by zero.\")\n",
        "except ValueError:\n",
        "    logging.error(\"Invalid input: not an integer.\")\n",
        "except Exception as e:\n",
        "    logging.error(f\"Unexpected error: {e}\")\n",
        "\n",
        "logging.info(\"Program ended.\")\n"
      ],
      "metadata": {
        "id": "pjHJ86dDLfuq"
      },
      "execution_count": null,
      "outputs": []
    },
    {
      "cell_type": "code",
      "source": [
        "# Q15 Write a Python program that prints the content of a file and handles the case when the file is empty?\n",
        "\n",
        "def print_file_content(filename):\n",
        "    try:\n",
        "        with open(filename, 'r') as file:\n",
        "            content = file.read()\n",
        "            if content.strip() == \"\":\n",
        "                print(\"The file is empty.\")\n",
        "            else:\n",
        "                print(\"File contents:\")\n",
        "                print(content)\n",
        "    except FileNotFoundError:\n",
        "        print(f\"Error: The file '{filename}' was not found.\")\n",
        "    except IOError as e:\n",
        "        print(f\"An I/O error occurred: {e}\")\n",
        "\n",
        "if __name__ == \"__main__\":\n",
        "    filename = input(\"Enter the filename: \")\n",
        "\n",
        "    print_file_content(filename)\n"
      ],
      "metadata": {
        "id": "gJisb9qUM_55"
      },
      "execution_count": null,
      "outputs": []
    },
    {
      "cell_type": "code",
      "source": [
        "# Q16 Demonstrate how to use memory profiling to check the memory usage of a small program?\n",
        "pip install memory-profiler\n",
        "\n",
        "\n",
        "from memory_profiler import profile\n",
        "\n",
        "@profile\n",
        "def process_data():\n",
        "    data = [x * 2 for x in range(1000000)]\n",
        "    total = sum(data)\n",
        "    return total\n",
        "\n",
        "if __name__ == \"__main__\":\n",
        "    result = process_data()\n",
        "    print(f\"Result: {result}\")\n",
        "\n",
        "\n",
        "python -m memory_profiler memory_demo.py\n"
      ],
      "metadata": {
        "id": "t6NXTj22QZsn"
      },
      "execution_count": null,
      "outputs": []
    },
    {
      "cell_type": "code",
      "source": [
        "#Q17 Write a Python program to create and write a list of numbers to a file, one number per line?\n",
        "\n",
        "def write_numbers_to_file(filename):\n",
        "    numbers = [1, 2, 3, 4, 5, 6, 7, 8, 9, 10]\n",
        "    with open(filename, 'w') as file:\n",
        "        for number in numbers:\n",
        "            file.write(f\"{number}\\n\")\n",
        "\n",
        "if __name__ == \"__main__\":\n",
        "    write_numbers_to_file(\"numbers.txt\")\n",
        "    print(\"Numbers have been written to numbers.txt\")\n"
      ],
      "metadata": {
        "id": "YmowmY0ESyIp"
      },
      "execution_count": null,
      "outputs": []
    },
    {
      "cell_type": "code",
      "source": [
        "#Q18  How would you implement a basic logging setup that logs to a file with rotation after 1MB?\n",
        "\n",
        "import logging\n",
        "from logging.handlers import RotatingFileHandler\n",
        "\n",
        "logger = logging.getLogger(\"my_logger\")\n",
        "logger.setLevel(logging.INFO)\n",
        "\n",
        "handler = RotatingFileHandler(\"app.log\", maxBytes=1_000_000, backupCount=3)\n",
        "handler.setLevel(logging.INFO)\n",
        "\n",
        "formatter = logging.Formatter('%(asctime)s - %(levelname)s - %(message)s')\n",
        "handler.setFormatter(formatter)\n",
        "\n",
        "logger.addHandler(handler)\n",
        "\n",
        "for i in range(10000):\n",
        "    logger.info(f\"This is log message number {i}\")\n"
      ],
      "metadata": {
        "id": "hrKYopQcTIVM"
      },
      "execution_count": null,
      "outputs": []
    },
    {
      "cell_type": "code",
      "source": [
        "#Q19 Write a program that handles both IndexError and KeyError using a try-except block\n",
        "\n",
        "def handle_errors():\n",
        "    my_list = [10, 20, 30]\n",
        "    my_dict = {\"a\": 1, \"b\": 2}\n",
        "\n",
        "    try:\n",
        "        # Trigger IndexError\n",
        "        print(my_list[5])\n",
        "\n",
        "        # Trigger KeyError\n",
        "        print(my_dict[\"z\"])\n",
        "\n",
        "    except IndexError:\n",
        "        print(\"IndexError: Tried to access an index that doesn't exist in the list.\")\n",
        "\n",
        "    except KeyError:\n",
        "        print(\"KeyError: Tried to access a key that doesn't exist in the dictionary.\")\n",
        "\n",
        "if __name__ == \"__main__\":\n",
        "    handle_errors()\n"
      ],
      "metadata": {
        "id": "PXqv95XxTnBe"
      },
      "execution_count": null,
      "outputs": []
    },
    {
      "cell_type": "code",
      "source": [
        "#Q20  How would you open a file and read its contents using a context manager in Python?\n",
        "\n",
        "filename = \"example.txt\"\n",
        "\n",
        "with open(filename, 'r') as file:\n",
        "    contents = file.read()\n",
        "    print(contents)\n"
      ],
      "metadata": {
        "id": "mMCDhd7BT3f6"
      },
      "execution_count": null,
      "outputs": []
    },
    {
      "cell_type": "code",
      "source": [
        "#Q21  Write a Python program that reads a file and prints the number of occurrences of a specific word?\n",
        "\n",
        "def count_word_occurrences(filename, target_word):\n",
        "    try:\n",
        "        with open(filename, 'r') as file:\n",
        "            content = file.read()\n",
        "            words = content.lower().split()\n",
        "            count = words.count(target_word.lower())\n",
        "            print(f\"The word '{target_word}' occurred {count} times.\")\n",
        "    except FileNotFoundError:\n",
        "        print(f\"Error: The file '{filename}' was not found.\")\n",
        "    except IOError as e:\n",
        "        print(f\"An I/O error occurred: {e}\")\n",
        "\n",
        "if __name__ == \"__main__\":\n",
        "    filename = input(\"Enter the filename: \")\n",
        "    word = input(\"Enter the word to count: \")\n",
        "    count_word_occurrences(filename, word)\n",
        "\n"
      ],
      "metadata": {
        "id": "HcPTKo1UULSb"
      },
      "execution_count": null,
      "outputs": []
    },
    {
      "cell_type": "code",
      "source": [
        "#Q22 How can you check if a file is empty before attempting to read its contents\n",
        "\n",
        "with open(\"example.txt\", 'r') as file:\n",
        "    contents = file.read()\n",
        "    if not contents.strip():\n",
        "        print(\"The file is empty.\")\n",
        "    else:\n",
        "        print(contents)\n"
      ],
      "metadata": {
        "id": "sK2DlpB6Vb1l"
      },
      "execution_count": null,
      "outputs": []
    },
    {
      "cell_type": "code",
      "source": [
        "#Q23 Write a Python program that writes to a log file when an error occurs during file handling.\n",
        "\n",
        "import logging\n",
        "\n",
        "logging.basicConfig(\n",
        "    filename='error_log.txt',\n",
        "    level=logging.ERROR,\n",
        "    format='%(asctime)s - %(levelname)s - %(message)s'\n",
        ")\n",
        "\n",
        "def read_file(filename):\n",
        "    try:\n",
        "        with open(filename, 'r') as file:\n",
        "            contents = file.read()\n",
        "            print(contents)\n",
        "    except Exception as e:\n",
        "        logging.error(f\"Failed to read file '{filename}': {e}\")\n",
        "        print(\"An error occurred. Please check the log file for details.\")\n",
        "\n",
        "if __name__ == \"__main__\":\n",
        "    filename = input(\"Enter the filename: \")\n",
        "    read_file(filename)\n"
      ],
      "metadata": {
        "id": "wJFwZ15nVrgl"
      },
      "execution_count": null,
      "outputs": []
    },
    {
      "cell_type": "code",
      "source": [],
      "metadata": {
        "id": "y9_h2ET2V8HK"
      },
      "execution_count": null,
      "outputs": []
    }
  ]
}