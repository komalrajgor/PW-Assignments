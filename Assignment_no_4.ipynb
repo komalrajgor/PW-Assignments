{
  "nbformat": 4,
  "nbformat_minor": 0,
  "metadata": {
    "colab": {
      "provenance": [],
      "authorship_tag": "ABX9TyNp5iLYX1wluQ0lMTLLrzbS",
      "include_colab_link": true
    },
    "kernelspec": {
      "name": "python3",
      "display_name": "Python 3"
    },
    "language_info": {
      "name": "python"
    }
  },
  "cells": [
    {
      "cell_type": "markdown",
      "metadata": {
        "id": "view-in-github",
        "colab_type": "text"
      },
      "source": [
        "<a href=\"https://colab.research.google.com/github/komalrajgor/PW-Assignments/blob/main/Assignment_no_4.ipynb\" target=\"_parent\"><img src=\"https://colab.research.google.com/assets/colab-badge.svg\" alt=\"Open In Colab\"/></a>"
      ]
    },
    {
      "cell_type": "markdown",
      "source": [
        "Q1. What is Object-Oriented Programming (OOP)?\n",
        "\n",
        "Ans OOP is a programming paradigm based on the concept of “objects”, which can contain data and code — data in the form of fields, and code in the form of procedures."
      ],
      "metadata": {
        "id": "fh-ZMY_s9par"
      }
    },
    {
      "cell_type": "markdown",
      "source": [
        "Q2. What is a class in OOP?\n",
        "\n",
        "Ans In Object-Oriented Programming (OOP), a class is a blueprint or template for creating objects."
      ],
      "metadata": {
        "id": "ENce_a3D-kFH"
      }
    },
    {
      "cell_type": "markdown",
      "source": [
        "Q3. What is an object in OOP\n",
        "\n",
        "Ans In Object-Oriented Programming (OOP), an object is an instance of a class.\n",
        "\n",
        "It is a real-world entity that combines data (attributes) and behavior (methods) defined by its class"
      ],
      "metadata": {
        "id": "aMLiMvkn-_gX"
      }
    },
    {
      "cell_type": "markdown",
      "source": [
        "Q4. What is the difference between abstraction and encapsulation?\n",
        "\n",
        "Ans Abstraction and encapsulation are two concepts in object-oriented programming. Abstraction focuses on hiding unnecessary complexity and showing only the essential features of an object, while encapsulation focuses on bundling the data (attributes) and methods (functions) that operate on that data into a single unit (class) and restricting access to the internal details."
      ],
      "metadata": {
        "id": "P4j4IW7__mFo"
      }
    },
    {
      "cell_type": "markdown",
      "source": [
        "Q5. What are dunder methods in Python?\n",
        "\n",
        "Ans Under methods, also known as magic methods or special methods, are a core part of Python's object model. They are distinguished by their names, which begin and end with double underscores like __init__, __str__, __add__."
      ],
      "metadata": {
        "id": "Tf89EO5TSgji"
      }
    },
    {
      "cell_type": "markdown",
      "source": [
        "Q6. Explain the concept of inheritance in OOP?\n",
        "\n",
        "Ans Dunder methods, also known as magic methods or special methods, are a core part of Python's object model. They are distinguished by their names, which begin and end with double underscores (e.g., __init__, __str__, __add__)."
      ],
      "metadata": {
        "id": "KgeOQZZuULAy"
      }
    },
    {
      "cell_type": "markdown",
      "source": [
        "Q7. What is polymorphism in OOP?\n",
        "\n",
        "Ans Polymorphism, in object-oriented programming (OOP), is the ability of an object to take on many forms or behaviors. It allows different classes to be treated as objects of a common superclass, enabling a single interface to handle diverse object types."
      ],
      "metadata": {
        "id": "KXqUX1oIVkv9"
      }
    },
    {
      "cell_type": "markdown",
      "source": [
        "Q8 How is encapsulation achieved in Python?\n",
        "\n",
        "Ans Polymorphism, in object-oriented programming (OOP), is the ability of an object to take on many forms or behaviors. It allows different classes to be treated as objects of a common superclass, enabling a single interface to handle diverse object types."
      ],
      "metadata": {
        "id": "F1cYY-_7wUUr"
      }
    },
    {
      "cell_type": "markdown",
      "source": [
        "Q9. What is a constructor in Python?\n",
        "\n",
        "Ans A constructor is a special method within a class that is automatically invoked when a new instance (object) of that class is created. Its primary purpose is to initialize the attributes of the newly created object and set up its initial state."
      ],
      "metadata": {
        "id": "2i-Xj2GpwwCl"
      }
    },
    {
      "cell_type": "markdown",
      "source": [
        "Q10.  What are class and static methods in Python?\n",
        "\n",
        "Ans In Python, class methods and static methods are special methods defined inside a class, but they behave differently from regular instance methods.\n",
        "\n",
        "a. Class Method\n",
        "\n",
        "Works with the class itself, not the object (instance).\n",
        "\n",
        "Uses @classmethod decorator.\n",
        "\n",
        "Takes cls as the first parameter (refers to the class).\n",
        "\n",
        "Can access or modify class-level data\n",
        "\n",
        "b. Static Method\n",
        "\n",
        "Doesn't access instance (self) or class (cls).\n",
        "\n",
        "Uses @staticmethod decorator.\n",
        "\n",
        "Acts like a regular function placed inside a class for logical grouping"
      ],
      "metadata": {
        "id": "OFb3QQxG3Y4Z"
      }
    },
    {
      "cell_type": "markdown",
      "source": [
        "Q11. What are class and static methods in Python?\n",
        "\n",
        "Ans Method overloading in Python refers to the ability to define multiple methods within a single class that share the same name but can be called with different arguments. This allows a single method name to perform different actions depending on the number or type of parameters provided."
      ],
      "metadata": {
        "id": "NT68uXna8SNd"
      }
    },
    {
      "cell_type": "markdown",
      "source": [
        "Q12. What is method overriding in OOP?\n",
        "\n",
        "Ans Method Overriding and Method Overloading | by Rachna ...Method overriding in object-oriented programming is when a subclass provides a specific implementation of a method that is already defined in its superclass."
      ],
      "metadata": {
        "id": "zwj5ync1_036"
      }
    },
    {
      "cell_type": "markdown",
      "source": [
        "Q13. What is a property decorator in Python\n",
        "\n",
        "Ans The @property decorator in Python is a built-in decorator that allows you to define methods within a class that can be accessed like attributes, providing a way to manage how those attributes are accessed, modified, and potentially deleted. It essentially turns a method into a \"managed attribute"
      ],
      "metadata": {
        "id": "Tx2aeimNALq5"
      }
    },
    {
      "cell_type": "markdown",
      "source": [
        "Q14.  Why is polymorphism important in OOP?\n",
        "\n",
        "Ans Polymorphism is crucial in object-oriented programming because it allows objects of different classes to be treated as objects of a common type, promoting code reusability, flexibility, and maintainability"
      ],
      "metadata": {
        "id": "EtHnV_CTBFso"
      }
    },
    {
      "cell_type": "markdown",
      "source": [
        "Q15.What is an abstract class in Python?\n",
        "\n",
        "Ans In Python, an abstract class is a class that cannot be instantiated directly and serves as a blueprint or template for other classes. It is designed to be inherited by subclasses, which are then required to provide implementations for any abstract methods declared within the abstract class\n"
      ],
      "metadata": {
        "id": "WcPWhdBuBvDS"
      }
    },
    {
      "cell_type": "markdown",
      "source": [
        "Q16. What are the advantages of OOP?\n",
        "\n",
        "Ans Object-Oriented Programming (OOP) offers several advantages, primarily enhancing code organization, reusability, and maintainability. Key benefits include modularity, allowing for easier troubleshooting and collaborative development; code reusability through inheritance, reducing redundancy; and flexibility through polymorphism, enabling adaptable solutions."
      ],
      "metadata": {
        "id": "DJgFEJDNCTu_"
      }
    },
    {
      "cell_type": "markdown",
      "source": [
        "Q17. What is the difference between a class variable and an instance variable?\n",
        "\n",
        "Ans Class variables and instance variables differ in their scope and how they are accessed. Class variables are shared among all instances of a class, while instance variables are unique to each object (instance) of a class."
      ],
      "metadata": {
        "id": "fCdYchTFC7s6"
      }
    },
    {
      "cell_type": "markdown",
      "source": [
        "Q18. What is multiple inheritance in Python?\n",
        "\n",
        "Ans Multiple inheritance in Python is a feature that allows a class to inherit attributes and methods from more than one parent class. This means a single child class can combine functionalities and characteristics from multiple distinct base classes."
      ],
      "metadata": {
        "id": "dYvN2kaeElsq"
      }
    },
    {
      "cell_type": "markdown",
      "source": [
        "Q19. Explain the purpose of ‘’__str__’ and ‘__repr__’ ‘ methods in Python?\n",
        "\n",
        "Ans In Python, __str__ and __repr__ are special \"dunder\" methods used to define how an object is represented as a string.\n",
        "\n",
        "__str__ :\n",
        "This method provides an \"informal\" or \"user-friendly\" string representation of an object.\n",
        "It is intended for display to end-users and should be easily readable and understandable.\n",
        "It is invoked by functions like print() and str().\n",
        "If __str__ is not defined for a class, __repr__ will be used as a fallback when str() or print() are called\n",
        "\n",
        "__repr__ :\n",
        "This method provides a \"formal\" or \"developer-friendly\" string representation of an object.\n",
        "It is intended for debugging and development, aiming to be unambiguous and often providing enough information to recreate the object.\n",
        "It is invoked by the repr() function and when an object is displayed in the interactive Python shell without explicitly calling print().\n",
        "It is a good practice to implement __repr__ for all custom classes"
      ],
      "metadata": {
        "id": "3vwXQmYnIG2m"
      }
    },
    {
      "cell_type": "markdown",
      "source": [
        "Q20. What is the significance of the ‘super()’ function in Python?\n",
        "\n",
        "Ans The super() function in Python holds significant importance in the context of object-oriented programming, particularly concerning inheritance. Its primary significance lies in enabling access to methods and properties of a parent or superclass from within a child or subclass."
      ],
      "metadata": {
        "id": "gsU1QyGTLnEE"
      }
    },
    {
      "cell_type": "markdown",
      "source": [
        "Q21. What is the significance of the __del__ method in Python?\n",
        "\n",
        "Ans The __del__ method in Python, also known as a destructor, holds significance in object-oriented programming for performing cleanup operations when an object is about to be garbage collected."
      ],
      "metadata": {
        "id": "WlwEg1jvSg7e"
      }
    },
    {
      "cell_type": "markdown",
      "source": [
        "Q22. What is the difference between @staticmethod and @classmethod in Python?\n",
        "\n",
        "Ans The primary difference between @staticmethod and @classmethod in Python lies in how they interact with the class and its instances:\n",
        "\n",
        "classmethod:\n",
        "Takes the class itself (cls) as its first argument.\n",
        "Can access and modify class-level attributes and call other class methods.\n",
        "Commonly used for factory methods, which return instances of the class, potentially with different initializations.\n",
        "\n",
        "staticmethod:\n",
        "Does not take self (instance) or cls (class) as its first argument.\n",
        "Behaves like a regular function but is logically grouped within a class.\n",
        "Cannot access or modify class or instance state directly.\n",
        "Suitable for utility functions that are related to the class but do not depend on any specific instance or class data"
      ],
      "metadata": {
        "id": "bumfwV9UTNkg"
      }
    },
    {
      "cell_type": "markdown",
      "source": [
        "Q23. How does polymorphism work in Python with inheritance?\n",
        "\n",
        "Ans Polymorphism in Python, when combined with inheritance, primarily functions through method overriding. This allows objects of different classes, related through an inheritance hierarchy, to respond to the same method call in a way specific to their own class."
      ],
      "metadata": {
        "id": "-dMWULzIV5-W"
      }
    },
    {
      "cell_type": "markdown",
      "source": [
        "Q24.  What is method chaining in Python OOP?\n",
        "\n",
        "Ans Method chaining in Python Object-Oriented Programming (OOP) is a technique that allows multiple methods to be called sequentially on the same object in a single line of code. This is achieved by having each method in the chain return the object itself (self), enabling the subsequent method call to operate on the modified or current state of that same object."
      ],
      "metadata": {
        "id": "OrSzU5nNPlQD"
      }
    },
    {
      "cell_type": "markdown",
      "source": [
        "Q25. What is the purpose of the __call__ method in Python?\n",
        "\n",
        "Ans The purpose of the __call__ method in Python is to make instances of a class callable, meaning they can be treated and invoked like functions.\n",
        "When the __call__ method is defined within a class, and an instance of that class is created, the instance can then be called directly using parentheses, just like a regular function. When this happens, the __call__ method of that instance is automatically executed."
      ],
      "metadata": {
        "id": "dQNKS6tSQVBL"
      }
    },
    {
      "cell_type": "code",
      "execution_count": 3,
      "metadata": {
        "id": "aBR2nQmA9I2z",
        "colab": {
          "base_uri": "https://localhost:8080/"
        },
        "outputId": "89228247-0868-4473-9770-67b888834c7b"
      },
      "outputs": [
        {
          "output_type": "stream",
          "name": "stdout",
          "text": [
            "This animal makes a sound.\n",
            "Bark!\n"
          ]
        }
      ],
      "source": [
        "#Pratical Questions\n",
        "#1. Create a parent class Animal with a method speak() that prints a generic message. Create a child class Dog that overrides the speak() method to print \"Bark!\".\n",
        "class Animal:\n",
        "    def speak(self):\n",
        "        print(\"This animal makes a sound.\")\n",
        "\n",
        "class Dog(Animal):\n",
        "    def speak(self):\n",
        "        print(\"Bark!\")\n",
        "\n",
        "a = Animal()\n",
        "a.speak()\n",
        "\n",
        "d = Dog()\n",
        "d.speak()\n",
        "\n"
      ]
    },
    {
      "cell_type": "code",
      "source": [
        "#2. Write a program to create an abstract class Shape with a method area(). Derive classes Circle and Rectangle from it and implement the area() method in both.\n",
        "from abc import ABC, abstractmethod\n",
        "import math\n",
        "\n",
        "class Shape(ABC):\n",
        "    @abstractmethod\n",
        "    def area(self):\n",
        "        pass\n",
        "\n",
        "class Circle(Shape):\n",
        "    def __init__(self, radius):\n",
        "        self.radius = radius\n",
        "\n",
        "    def area(self):\n",
        "        return math.pi * self.radius ** 2\n",
        "\n",
        "class Rectangle(Shape):\n",
        "    def __init__(self, length, width):\n",
        "        self.length = length\n",
        "        self.width = width\n",
        "\n",
        "    def area(self):\n",
        "        return self.length * self.width\n",
        "\n",
        "c = Circle(5)\n",
        "print(\"Circle area:\", c.area())\n",
        "\n",
        "r = Rectangle(4, 6)\n",
        "print(\"Rectangle area:\", r.area())"
      ],
      "metadata": {
        "colab": {
          "base_uri": "https://localhost:8080/"
        },
        "id": "Vgm_GoQFRR8J",
        "outputId": "bc25920a-5623-45f4-d2a4-2b8e40ccc430"
      },
      "execution_count": 5,
      "outputs": [
        {
          "output_type": "stream",
          "name": "stdout",
          "text": [
            "Circle area: 78.53981633974483\n",
            "Rectangle area: 24\n"
          ]
        }
      ]
    },
    {
      "cell_type": "code",
      "source": [
        "#3. Implement a multi-level inheritance scenario where a class Vehicle has an attribute type. Derive a class Car and further derive a class ElectricCar that adds a battery attribute.\n",
        "\n",
        "class Vehicle:\n",
        "    def __init__(self, vehicle_type):\n",
        "        self.type = vehicle_type\n",
        "\n",
        "class Car(Vehicle):\n",
        "    def __init__(self, vehicle_type, brand):\n",
        "        super().__init__(vehicle_type)\n",
        "        self.brand = brand\n",
        "\n",
        "class ElectricCar(Car):\n",
        "    def __init__(self, vehicle_type, brand, battery_capacity):\n",
        "        super().__init__(vehicle_type, brand)\n",
        "        self.battery = battery_capacity\n",
        "\n",
        "e_car = ElectricCar(\"Four-wheeler\", \"Tesla\", \"75 kWh\")\n",
        "print(\"Type:\", e_car.type)               # Output: Four-wheeler\n",
        "print(\"Brand:\", e_car.brand)             # Output: Tesla\n",
        "print(\"Battery Capacity:\", e_car.battery)  # Output: 75 kWh\n"
      ],
      "metadata": {
        "colab": {
          "base_uri": "https://localhost:8080/"
        },
        "id": "HTIi0u_JShUT",
        "outputId": "83bffe39-ff0e-4b61-9287-8c3f662c4080"
      },
      "execution_count": 34,
      "outputs": [
        {
          "output_type": "stream",
          "name": "stdout",
          "text": [
            "Type: Four-wheeler\n",
            "Brand: Tesla\n",
            "Battery Capacity: 75 kWh\n"
          ]
        }
      ]
    },
    {
      "cell_type": "code",
      "source": [
        "# 4. Demonstrate polymorphism by creating a base class Bird with a method fly(). Create two derived classes Sparrow and Penguin that override the fly() method.\n",
        "class Bird:\n",
        "    def fly(self):\n",
        "        print(\"Some birds can fly.\")\n",
        "\n",
        "class Sparrow(Bird):\n",
        "    def fly(self):\n",
        "        print(\"Sparrow flies high in the sky.\")\n",
        "\n",
        "class Penguin(Bird):\n",
        "    def fly(self):\n",
        "        print(\"Penguins can't fly but they swim well.\")\n",
        "\n",
        "birds = [Sparrow(), Penguin()]\n",
        "\n",
        "for bird in birds:\n",
        "    bird.fly()"
      ],
      "metadata": {
        "colab": {
          "base_uri": "https://localhost:8080/"
        },
        "id": "mkRx7Vj1S_H8",
        "outputId": "a6a02a24-8dab-42ff-cce9-a258456ec07c"
      },
      "execution_count": 9,
      "outputs": [
        {
          "output_type": "stream",
          "name": "stdout",
          "text": [
            "Sparrow flies high in the sky.\n",
            "Penguins can't fly but they swim well.\n"
          ]
        }
      ]
    },
    {
      "cell_type": "code",
      "source": [
        "#5. Write a program to demonstrate encapsulation by creating a class BankAccount with private attributes balance and methods to deposit, withdraw, and check balance.\n",
        "class BankAccount:\n",
        "    def __init__(self, initial_balance=0):\n",
        "        self.__balance = initial_balance  # private attribute\n",
        "\n",
        "    def deposit(self, amount):\n",
        "        if amount > 0:\n",
        "            self.__balance += amount\n",
        "            print(f\"Deposited: ₹{amount}\")\n",
        "        else:\n",
        "            print(\"Deposit amount must be positive.\")\n",
        "\n",
        "    def withdraw(self, amount):\n",
        "        if 0 < amount <= self.__balance:\n",
        "            self.__balance -= amount\n",
        "            print(f\"Withdrawn: ₹{amount}\")\n",
        "        else:\n",
        "            print(\"Insufficient balance or invalid amount.\")\n",
        "\n",
        "    def check_balance(self):\n",
        "        print(f\"Current Balance: ₹{self.__balance}\")\n",
        "\n",
        "account = BankAccount(1000)\n",
        "account.check_balance()\n",
        "account.deposit(500)\n",
        "account.check_balance()\n",
        "\n"
      ],
      "metadata": {
        "colab": {
          "base_uri": "https://localhost:8080/"
        },
        "id": "Hfw4IwgBTmkl",
        "outputId": "28d163d3-6ea8-4726-b030-f7201ccee196"
      },
      "execution_count": 33,
      "outputs": [
        {
          "output_type": "stream",
          "name": "stdout",
          "text": [
            "Current Balance: ₹1000\n",
            "Deposited: ₹500\n",
            "Current Balance: ₹1500\n"
          ]
        }
      ]
    },
    {
      "cell_type": "code",
      "source": [
        "#6. Demonstrate runtime polymorphism using a method play() in a base class Instrument. Derive classes Guitar and Piano that implement their own version of play().\n",
        "class Instrument:\n",
        "    def play(self):\n",
        "        print(\"The instrument is playing.\")\n",
        "\n",
        "class Guitar(Instrument):\n",
        "    def play(self):\n",
        "        print(\"Strumming the guitar strings.\")\n",
        "\n",
        "class Piano(Instrument):\n",
        "    def play(self):\n",
        "        print(\"Playing the piano keys.\")\n",
        "\n",
        "instruments = [Guitar(), Piano()]\n",
        "\n",
        "for instrument in instruments:\n",
        "    instrument.play()\n"
      ],
      "metadata": {
        "colab": {
          "base_uri": "https://localhost:8080/"
        },
        "id": "Stbu3HpTU1SZ",
        "outputId": "0d68dbf0-1d6d-4e6d-af64-b4f308b4b508"
      },
      "execution_count": 32,
      "outputs": [
        {
          "output_type": "stream",
          "name": "stdout",
          "text": [
            "Strumming the guitar strings.\n",
            "Playing the piano keys.\n"
          ]
        }
      ]
    },
    {
      "cell_type": "code",
      "source": [
        "#7. Create a class MathOperations with a class method add_numbers() to add two numbers and a static method subtract_numbers() to subtract two numbers.\n",
        "class MathOperations:\n",
        "    @classmethod\n",
        "    def add_numbers(cls, a, b):\n",
        "        return a + b\n",
        "\n",
        "    @staticmethod\n",
        "    def subtract_numbers(a, b):\n",
        "        return a - b\n",
        "\n",
        "print(\"Addition:\", MathOperations.add_numbers(10, 5))\n",
        "print(\"Subtraction:\", MathOperations.subtract_numbers(10, 5))"
      ],
      "metadata": {
        "colab": {
          "base_uri": "https://localhost:8080/"
        },
        "id": "18kDmaLLVZxs",
        "outputId": "917fb29a-a486-4074-a42c-00cb9cfaa3fa"
      },
      "execution_count": 31,
      "outputs": [
        {
          "output_type": "stream",
          "name": "stdout",
          "text": [
            "Addition: 15\n",
            "Subtraction: 5\n"
          ]
        }
      ]
    },
    {
      "cell_type": "code",
      "source": [
        "#8. Implement a class Person with a class method to count the total number of persons created.\n",
        "class Person:\n",
        "    count = 0  # Class variable to keep track of persons\n",
        "\n",
        "    def __init__(self, name):\n",
        "        self.name = name\n",
        "        Person.count += 1  # Increment count on every new object\n",
        "\n",
        "    @classmethod\n",
        "    def total_persons(cls):\n",
        "        return cls.count\n",
        "\n",
        "p1 = Person(\"Alice\")\n",
        "p2 = Person(\"Bob\")\n",
        "p3 = Person(\"Charlie\")\n",
        "\n",
        "print(\"Total persons created:\", Person.total_persons())  # Output: 3\n"
      ],
      "metadata": {
        "colab": {
          "base_uri": "https://localhost:8080/"
        },
        "id": "3HQFnmKBWAEN",
        "outputId": "d2e08fe5-4622-46fb-ed49-4f2a93492557"
      },
      "execution_count": 13,
      "outputs": [
        {
          "output_type": "stream",
          "name": "stdout",
          "text": [
            "Total persons created: 3\n"
          ]
        }
      ]
    },
    {
      "cell_type": "code",
      "source": [
        "#9. Write a class Fraction with attributes numerator and denominator. Override the str method to display the fraction as \"numerator/denominator\".\n",
        "class Fraction:\n",
        "    def __init__(self, numerator, denominator):\n",
        "        self.numerator = numerator\n",
        "        self.denominator = denominator\n",
        "\n",
        "    def __str__(self):\n",
        "        return f\"{self.numerator}/{self.denominator}\"\n",
        "\n",
        "f = Fraction(3, 4)\n",
        "print(f)  # Output: 3/4\n"
      ],
      "metadata": {
        "colab": {
          "base_uri": "https://localhost:8080/"
        },
        "id": "5FO0l-IJWSdc",
        "outputId": "8a6a0c08-012d-4325-cde4-07b9834a276f"
      },
      "execution_count": 14,
      "outputs": [
        {
          "output_type": "stream",
          "name": "stdout",
          "text": [
            "3/4\n"
          ]
        }
      ]
    },
    {
      "cell_type": "code",
      "source": [
        "#10. Demonstrate operator overloading by creating a class Vector and overriding the add method to add two vectors.\n",
        "class Vector:\n",
        "    def __init__(self, x, y):\n",
        "        self.x = x\n",
        "        self.y = y\n",
        "\n",
        "    def __add__(self, other):\n",
        "        return Vector(self.x + other.x, self.y + other.y)\n",
        "\n",
        "    def __str__(self):\n",
        "        return f\"Vector({self.x}, {self.y})\"\n",
        "\n",
        "v1 = Vector(2, 3)\n",
        "v2 = Vector(4, 1)\n",
        "v3 = v1 + v2\n",
        "\n",
        "print(v3)"
      ],
      "metadata": {
        "colab": {
          "base_uri": "https://localhost:8080/"
        },
        "id": "XFDBWyMwWmsv",
        "outputId": "d2f91153-82ab-45e9-834d-26e456cffd91"
      },
      "execution_count": 30,
      "outputs": [
        {
          "output_type": "stream",
          "name": "stdout",
          "text": [
            "Vector(6, 4)\n"
          ]
        }
      ]
    },
    {
      "cell_type": "code",
      "source": [
        "#11. Create a class Person with attributes name and age. Add a method greet() that prints \"Hello, my name is {name} and I am {age} years old.\"\n",
        "class Person:\n",
        "    def __init__(self, name, age):\n",
        "        self.name = name\n",
        "        self.age = age\n",
        "\n",
        "    def greet(self):\n",
        "        print(f\"Hello, my name is {self.name} and I am {self.age} years old.\")\n",
        "p = Person(\"Komal\", 26)\n",
        "p.greet()  # Output: Hello, my name is Komal and I am 26 years old.\n"
      ],
      "metadata": {
        "colab": {
          "base_uri": "https://localhost:8080/"
        },
        "id": "dqWdXpe9XHjb",
        "outputId": "346c75f0-967b-4263-818d-211259d352d3"
      },
      "execution_count": 29,
      "outputs": [
        {
          "output_type": "stream",
          "name": "stdout",
          "text": [
            "Hello, my name is Komal and I am 26 years old.\n"
          ]
        }
      ]
    },
    {
      "cell_type": "code",
      "source": [
        "#12. Implement a class Student with attributes name and grades. Create a method average_grade() to compute the average of the grades.\n",
        "class Student:\n",
        "    def __init__(self, name, grades):\n",
        "        self.name = name\n",
        "        self.grades = grades  # grades should be a list of numbers\n",
        "\n",
        "    def average_grade(self):\n",
        "        if self.grades:\n",
        "            return sum(self.grades) / len(self.grades)\n",
        "        else:\n",
        "            return 0\n",
        "s = Student(\"Komal\", [85, 90, 78, 92])\n",
        "print(f\"{s.name}'s average grade is:\", s.average_grade())  # Output: Komal's average grade is: 86.25\n"
      ],
      "metadata": {
        "colab": {
          "base_uri": "https://localhost:8080/"
        },
        "id": "N14WnzP-XdAG",
        "outputId": "81438355-cc84-4d63-a906-b59767d6b2b8"
      },
      "execution_count": 28,
      "outputs": [
        {
          "output_type": "stream",
          "name": "stdout",
          "text": [
            "Komal's average grade is: 86.25\n"
          ]
        }
      ]
    },
    {
      "cell_type": "code",
      "source": [
        "#13. Create a class Rectangle with methods set_dimensions() to set the dimensions and area() to calculate the area.\n",
        "class Rectangle:\n",
        "    def __init__(self):\n",
        "        self.length = 0\n",
        "        self.width = 0\n",
        "\n",
        "    def set_dimensions(self, length, width):\n",
        "        self.length = length\n",
        "        self.width = width\n",
        "\n",
        "    def area(self):\n",
        "        return self.length * self.width\n",
        "\n",
        "rect = Rectangle()\n",
        "rect.set_dimensions(5, 3)\n",
        "print(\"Area of rectangle:\", rect.area())  # Output: 15"
      ],
      "metadata": {
        "colab": {
          "base_uri": "https://localhost:8080/"
        },
        "id": "xmDZ7GyCX1Zf",
        "outputId": "8a1ab568-1072-4b27-d34c-89aea07ee267"
      },
      "execution_count": 27,
      "outputs": [
        {
          "output_type": "stream",
          "name": "stdout",
          "text": [
            "Area of rectangle: 15\n"
          ]
        }
      ]
    },
    {
      "cell_type": "code",
      "source": [
        "#14. Create a class Employee with a method calculate_salary() that computes the salary based on hours worked and hourly rate. Create a derived class Manager that adds a bonus to the salary.\n",
        "class Employee:\n",
        "    def __init__(self, hours_worked, hourly_rate):\n",
        "        self.hours_worked = hours_worked\n",
        "        self.hourly_rate = hourly_rate\n",
        "\n",
        "    def calculate_salary(self):\n",
        "        return self.hours_worked * self.hourly_rate\n",
        "\n",
        "class Manager(Employee):\n",
        "    def __init__(self, hours_worked, hourly_rate, bonus):\n",
        "        super().__init__(hours_worked, hourly_rate)\n",
        "        self.bonus = bonus\n",
        "\n",
        "    def calculate_salary(self):\n",
        "        base_salary = super().calculate_salary()\n",
        "        return base_salary + self.bonus\n",
        "\n",
        "emp = Employee(40, 200)\n",
        "print(\"Employee Salary:\", emp.calculate_salary())  # Output: 8000\n",
        "\n",
        "mgr = Manager(40, 200, 5000)\n",
        "print(\"Manager Salary:\", mgr.calculate_salary())   # Output: 13000\n"
      ],
      "metadata": {
        "colab": {
          "base_uri": "https://localhost:8080/"
        },
        "id": "Lu58P6hFYdiH",
        "outputId": "87da0055-4602-4786-cd33-b9b4de6b57f0"
      },
      "execution_count": 26,
      "outputs": [
        {
          "output_type": "stream",
          "name": "stdout",
          "text": [
            "Employee Salary: 8000\n",
            "Manager Salary: 13000\n"
          ]
        }
      ]
    },
    {
      "cell_type": "code",
      "source": [
        "#14. Create a class Employee with a method calculate_salary() that computes the salary based on hours worked and hourly rate. Create a derived class Manager that adds a bonus to the salary.\n",
        "class Employee:\n",
        "    def __init__(self, hours_worked, hourly_rate):\n",
        "        self.hours_worked = hours_worked\n",
        "        self.hourly_rate = hourly_rate\n",
        "\n",
        "    def calculate_salary(self):\n",
        "        return self.hours_worked * self.hourly_rate\n",
        "\n",
        "class Manager(Employee):\n",
        "    def __init__(self, hours_worked, hourly_rate, bonus):\n",
        "        super().__init__(hours_worked, hourly_rate)\n",
        "        self.bonus = bonus\n",
        "\n",
        "    def calculate_salary(self):\n",
        "        return super().calculate_salary() + self.bonus\n",
        "\n",
        "e = Employee(40, 250)\n",
        "print(\"Employee Salary:\", e.calculate_salary())  # Output: 10000\n",
        "\n",
        "m = Manager(40, 250, 5000)\n",
        "print(\"Manager Salary:\", m.calculate_salary())   # Output: 15000\n"
      ],
      "metadata": {
        "colab": {
          "base_uri": "https://localhost:8080/"
        },
        "id": "mKPKIuE1Y1AO",
        "outputId": "bc7dce21-c973-44f5-d916-11ead7a7cff2"
      },
      "execution_count": 25,
      "outputs": [
        {
          "output_type": "stream",
          "name": "stdout",
          "text": [
            "Employee Salary: 10000\n",
            "Manager Salary: 15000\n"
          ]
        }
      ]
    },
    {
      "cell_type": "code",
      "source": [
        "#15. Create a class Product with attributes name, price, and quantity. Implement a method total_price() that calculates the total price of the product.\n",
        "class Product:\n",
        "    def __init__(self, name, price, quantity):\n",
        "        self.name = name\n",
        "        self.price = price\n",
        "        self.quantity = quantity\n",
        "\n",
        "    def total_price(self):\n",
        "        return self.price * self.quantity\n",
        "\n",
        "p = Product(\"Dehydrated Mango\", 150, 10)\n",
        "print(f\"Product: {p.name}\")\n",
        "print(\"Total Price:\", p.total_price())  # Output: 1500\n"
      ],
      "metadata": {
        "colab": {
          "base_uri": "https://localhost:8080/"
        },
        "id": "QnXzjSAaZ6I2",
        "outputId": "b5bbccf2-a8a6-4be6-bdaa-6ee3d3c00c50"
      },
      "execution_count": 24,
      "outputs": [
        {
          "output_type": "stream",
          "name": "stdout",
          "text": [
            "Product: Dehydrated Mango\n",
            "Total Price: 1500\n"
          ]
        }
      ]
    },
    {
      "cell_type": "code",
      "source": [
        "#16. Create a class Animal with an abstract method sound(). Create two derived classes Cow and Sheep that implement the sound() method.\n",
        "from abc import ABC, abstractmethod\n",
        "\n",
        "class Animal(ABC):\n",
        "    @abstractmethod\n",
        "    def sound(self):\n",
        "        pass\n",
        "\n",
        "class Cow(Animal):\n",
        "    def sound(self):\n",
        "        return \"Moo\"\n",
        "\n",
        "class Sheep(Animal):\n",
        "    def sound(self):\n",
        "        return \"Baa\"\n",
        "\n",
        "cow = Cow()\n",
        "sheep = Sheep()\n",
        "\n",
        "print(\"Cow says:\", cow.sound())\n",
        "print(\"Sheep says:\", sheep.sound())\n"
      ],
      "metadata": {
        "colab": {
          "base_uri": "https://localhost:8080/"
        },
        "id": "ven0CFCfaNkB",
        "outputId": "479dda42-1f88-4cbc-a563-d41de8cbdfe7"
      },
      "execution_count": 23,
      "outputs": [
        {
          "output_type": "stream",
          "name": "stdout",
          "text": [
            "Cow says: Moo\n",
            "Sheep says: Baa\n"
          ]
        }
      ]
    },
    {
      "cell_type": "code",
      "source": [
        "#17. Create a class Book with attributes title, author, and year_published. Add a method get_book_info() that returns a formatted string with the book's details.\n",
        "class Book:\n",
        "    def __init__(self, title, author, year_published):\n",
        "        self.title = title\n",
        "        self.author = author\n",
        "        self.year_published = year_published\n",
        "\n",
        "    def get_book_info(self):\n",
        "        return f\"'{self.title}' by {self.author}, published in {self.year_published}.\"\n",
        "\n",
        "# Test\n",
        "book = Book(\"To Kill a Mockingbird\", \"Harper Lee\", 1960)\n",
        "print(book.get_book_info())\n",
        "# Output: 'To Kill a Mockingbird' by Harper Lee, published in 1960.\n"
      ],
      "metadata": {
        "colab": {
          "base_uri": "https://localhost:8080/"
        },
        "id": "NGWbwaPcaodJ",
        "outputId": "a9817bde-2ff6-4836-a0b2-d4aeaa8d72a6"
      },
      "execution_count": 35,
      "outputs": [
        {
          "output_type": "stream",
          "name": "stdout",
          "text": [
            "'To Kill a Mockingbird' by Harper Lee, published in 1960.\n"
          ]
        }
      ]
    },
    {
      "cell_type": "code",
      "source": [
        "#18. Create a class House with attributes address and price. Create a derived class Mansion that adds an attribute number_of_rooms.\n",
        "class House:\n",
        "    def __init__(self, address, price):\n",
        "        self.address = address\n",
        "        self.price = price\n",
        "\n",
        "class Mansion(House):\n",
        "    def __init__(self, address, price, number_of_rooms):\n",
        "        super().__init__(address, price)\n",
        "        self.number_of_rooms = number_of_rooms\n",
        "\n",
        "# Test\n",
        "m = Mansion(\"123 Palm Avenue\", 50000000, 12)\n",
        "print(\"Address:\", m.address)\n",
        "print(\"Price: ₹\", m.price)\n",
        "print(\"Number of Rooms:\", m.number_of_rooms)\n"
      ],
      "metadata": {
        "colab": {
          "base_uri": "https://localhost:8080/"
        },
        "id": "GlwnDz1xbQuP",
        "outputId": "5324ddd4-c5d4-4c16-9ada-3a08de4ce82d"
      },
      "execution_count": 36,
      "outputs": [
        {
          "output_type": "stream",
          "name": "stdout",
          "text": [
            "Address: 123 Palm Avenue\n",
            "Price: ₹ 50000000\n",
            "Number of Rooms: 12\n"
          ]
        }
      ]
    },
    {
      "cell_type": "code",
      "source": [],
      "metadata": {
        "id": "ADKijxMCbmzV"
      },
      "execution_count": null,
      "outputs": []
    }
  ]
}